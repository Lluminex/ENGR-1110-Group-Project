{
 "cells": [
  {
   "cell_type": "markdown",
   "metadata": {},
   "source": [
    "# ENGR 1110 Project\n",
    "\n",
    "## Global Issue\n",
    "The global issue we decided to analyze is the top causes of deaths nationally and will focus on the southeast for the analysis.\n",
    "\n"
   ]
  },
  {
   "cell_type": "code",
   "execution_count": 1,
   "metadata": {},
   "outputs": [
    {
     "name": "stdout",
     "output_type": "stream",
     "text": [
      "     Year 113 Cause Name  Cause Name                 State   Deaths  \\\n",
      "52   2017     All Causes  All causes         United States  2813503   \n",
      "53   2017     All Causes  All causes               Alabama    53238   \n",
      "54   2017     All Causes  All causes                Alaska     4411   \n",
      "55   2017     All Causes  All causes               Arizona    57758   \n",
      "56   2017     All Causes  All causes              Arkansas    32588   \n",
      "57   2017     All Causes  All causes            California   268189   \n",
      "58   2017     All Causes  All causes              Colorado    38063   \n",
      "59   2017     All Causes  All causes           Connecticut    31312   \n",
      "60   2017     All Causes  All causes              Delaware     9178   \n",
      "61   2017     All Causes  All causes  District of Columbia     4965   \n",
      "62   2017     All Causes  All causes               Florida   203636   \n",
      "63   2017     All Causes  All causes               Georgia    83098   \n",
      "64   2017     All Causes  All causes                Hawaii    11390   \n",
      "65   2017     All Causes  All causes                 Idaho    14011   \n",
      "66   2017     All Causes  All causes              Illinois   109721   \n",
      "67   2017     All Causes  All causes               Indiana    65597   \n",
      "68   2017     All Causes  All causes                  Iowa    30530   \n",
      "69   2017     All Causes  All causes                Kansas    27063   \n",
      "70   2017     All Causes  All causes              Kentucky    48212   \n",
      "71   2017     All Causes  All causes             Louisiana    45804   \n",
      "72   2017     All Causes  All causes                 Maine    14676   \n",
      "73   2017     All Causes  All causes              Maryland    49926   \n",
      "74   2017     All Causes  All causes         Massachusetts    58803   \n",
      "75   2017     All Causes  All causes              Michigan    97602   \n",
      "76   2017     All Causes  All causes             Minnesota    44371   \n",
      "77   2017     All Causes  All causes           Mississippi    32280   \n",
      "78   2017     All Causes  All causes              Missouri    61876   \n",
      "79   2017     All Causes  All causes               Montana    10200   \n",
      "80   2017     All Causes  All causes              Nebraska    16878   \n",
      "81   2017     All Causes  All causes                Nevada    24657   \n",
      "82   2017     All Causes  All causes         New Hampshire    12504   \n",
      "83   2017     All Causes  All causes            New Jersey    74846   \n",
      "84   2017     All Causes  All causes            New Mexico    18673   \n",
      "85   2017     All Causes  All causes              New York   155358   \n",
      "86   2017     All Causes  All causes        North Carolina    93157   \n",
      "87   2017     All Causes  All causes          North Dakota     6415   \n",
      "88   2017     All Causes  All causes                  Ohio   123648   \n",
      "89   2017     All Causes  All causes              Oklahoma    40452   \n",
      "90   2017     All Causes  All causes                Oregon    36624   \n",
      "91   2017     All Causes  All causes          Pennsylvania   135656   \n",
      "92   2017     All Causes  All causes          Rhode Island    10157   \n",
      "93   2017     All Causes  All causes        South Carolina    49441   \n",
      "94   2017     All Causes  All causes          South Dakota     7996   \n",
      "95   2017     All Causes  All causes             Tennessee    70096   \n",
      "96   2017     All Causes  All causes                 Texas   198106   \n",
      "97   2017     All Causes  All causes                  Utah    18035   \n",
      "98   2017     All Causes  All causes               Vermont     6007   \n",
      "99   2017     All Causes  All causes              Virginia    68579   \n",
      "100  2017     All Causes  All causes            Washington    56995   \n",
      "101  2017     All Causes  All causes         West Virginia    23276   \n",
      "102  2017     All Causes  All causes             Wisconsin    52681   \n",
      "103  2017     All Causes  All causes               Wyoming     4768   \n",
      "\n",
      "     Age-adjusted Death Rate  \n",
      "52                     731.9  \n",
      "53                     917.7  \n",
      "54                     708.8  \n",
      "55                     678.5  \n",
      "56                     900.1  \n",
      "57                     618.7  \n",
      "58                     663.4  \n",
      "59                     651.2  \n",
      "60                     749.6  \n",
      "61                     725.4  \n",
      "62                     672.1  \n",
      "63                     793.7  \n",
      "64                     584.9  \n",
      "65                     741.8  \n",
      "66                     724.2  \n",
      "67                     848.6  \n",
      "68                     737.0  \n",
      "69                     771.2  \n",
      "70                     929.9  \n",
      "71                     881.1  \n",
      "72                     771.6  \n",
      "73                     718.1  \n",
      "74                     677.1  \n",
      "75                     783.5  \n",
      "76                     656.4  \n",
      "77                     951.3  \n",
      "78                     820.1  \n",
      "79                     757.5  \n",
      "80                     726.0  \n",
      "81                     765.5  \n",
      "82                     717.3  \n",
      "83                     667.5  \n",
      "84                     754.7  \n",
      "85                     623.6  \n",
      "86                     785.6  \n",
      "87                     692.7  \n",
      "88                     849.7  \n",
      "89                     902.4  \n",
      "90                     717.2  \n",
      "91                     777.3  \n",
      "92                     713.4  \n",
      "93                     828.0  \n",
      "94                     736.6  \n",
      "95                     897.1  \n",
      "96                     735.7  \n",
      "97                     700.1  \n",
      "98                     714.9  \n",
      "99                     719.4  \n",
      "100                    688.6  \n",
      "101                    957.1  \n",
      "102                    722.0  \n",
      "103                    714.6  \n"
     ]
    }
   ],
   "source": [
    "import numpy as np\n",
    "import matplotlib.pyplot as plt\n",
    "import pandas as pd\n",
    "\n",
    "df = pd.read_csv(\"data.csv\")\n",
    "# v Chris v\n",
    "print(df.loc[(df['Year']==2017) & (df['Cause Name']=='All causes')])\n",
    "\n"
   ]
  },
  {
   "cell_type": "markdown",
   "metadata": {},
   "source": [
    "## Data Collection Process\n",
    "Our [data](https://catalog.data.gov/dataset/nchs-leading-causes-of-death-united-states) was collected from the NCHS (National Center for Health Statistics) and was parsed using ...\n",
    "\n",
    "## Data Exploration\n",
    "TODO!"
   ]
  },
  {
   "cell_type": "code",
   "execution_count": null,
   "metadata": {},
   "outputs": [],
   "source": []
  },
  {
   "cell_type": "markdown",
   "metadata": {},
   "source": [
    "### Building our Visualizations \n",
    "TODO!"
   ]
  },
  {
   "cell_type": "code",
   "execution_count": null,
   "metadata": {},
   "outputs": [],
   "source": [
    "# Jordan Lee"
   ]
  },
  {
   "cell_type": "markdown",
   "metadata": {},
   "source": [
    "\n",
    "## The Message\n",
    "TODO!\n",
    "\n",
    "## What can we do?\n",
    "TODO!"
   ]
  }
 ],
 "metadata": {
  "kernelspec": {
   "display_name": "Python 3",
   "language": "python",
   "name": "python3"
  },
  "language_info": {
   "codemirror_mode": {
    "name": "ipython",
    "version": 3
   },
   "file_extension": ".py",
   "mimetype": "text/x-python",
   "name": "python",
   "nbconvert_exporter": "python",
   "pygments_lexer": "ipython3",
   "version": "3.10.2"
  }
 },
 "nbformat": 4,
 "nbformat_minor": 2
}
