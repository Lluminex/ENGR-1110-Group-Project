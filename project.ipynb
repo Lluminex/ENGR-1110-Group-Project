{
 "cells": [
  {
   "cell_type": "markdown",
   "metadata": {},
   "source": [
    "# ENGR 1110 Project\n",
    "\n",
    "## Global Issue\n",
    "The global issue we decided to analyze is the top causes of deaths nationally and will focus on the southeast for the analysis.\n",
    "\n"
   ]
  },
  {
   "cell_type": "markdown",
   "metadata": {},
   "source": [
    "## Setup"
   ]
  },
  {
   "cell_type": "code",
   "execution_count": 4,
   "metadata": {},
   "outputs": [
    {
     "name": "stdout",
     "output_type": "stream",
     "text": [
      "Defaulting to user installation because normal site-packages is not writeable\n",
      "Requirement already satisfied: numpy==1.26.1 in /Users/admin/Library/Python/3.10/lib/python/site-packages (from -r requirements.txt (line 1)) (1.26.1)\n",
      "Requirement already satisfied: pandas==2.1.1 in /Users/admin/Library/Python/3.10/lib/python/site-packages (from -r requirements.txt (line 2)) (2.1.1)\n",
      "Requirement already satisfied: matplotlib==3.8.0 in /Users/admin/Library/Python/3.10/lib/python/site-packages (from -r requirements.txt (line 3)) (3.8.0)\n",
      "Requirement already satisfied: python-dateutil>=2.8.2 in /Users/admin/Library/Python/3.10/lib/python/site-packages (from pandas==2.1.1->-r requirements.txt (line 2)) (2.8.2)\n",
      "Requirement already satisfied: pytz>=2020.1 in /Users/admin/Library/Python/3.10/lib/python/site-packages (from pandas==2.1.1->-r requirements.txt (line 2)) (2023.3.post1)\n",
      "Requirement already satisfied: tzdata>=2022.1 in /Users/admin/Library/Python/3.10/lib/python/site-packages (from pandas==2.1.1->-r requirements.txt (line 2)) (2023.3)\n",
      "Requirement already satisfied: contourpy>=1.0.1 in /Users/admin/Library/Python/3.10/lib/python/site-packages (from matplotlib==3.8.0->-r requirements.txt (line 3)) (1.1.1)\n",
      "Requirement already satisfied: cycler>=0.10 in /Users/admin/Library/Python/3.10/lib/python/site-packages (from matplotlib==3.8.0->-r requirements.txt (line 3)) (0.12.1)\n",
      "Requirement already satisfied: fonttools>=4.22.0 in /Users/admin/Library/Python/3.10/lib/python/site-packages (from matplotlib==3.8.0->-r requirements.txt (line 3)) (4.43.1)\n",
      "Requirement already satisfied: kiwisolver>=1.0.1 in /Users/admin/Library/Python/3.10/lib/python/site-packages (from matplotlib==3.8.0->-r requirements.txt (line 3)) (1.4.5)\n",
      "Requirement already satisfied: packaging>=20.0 in /Users/admin/Library/Python/3.10/lib/python/site-packages (from matplotlib==3.8.0->-r requirements.txt (line 3)) (23.2)\n",
      "Requirement already satisfied: pillow>=6.2.0 in /Users/admin/Library/Python/3.10/lib/python/site-packages (from matplotlib==3.8.0->-r requirements.txt (line 3)) (10.1.0)\n",
      "Requirement already satisfied: pyparsing>=2.3.1 in /Users/admin/Library/Python/3.10/lib/python/site-packages (from matplotlib==3.8.0->-r requirements.txt (line 3)) (3.1.1)\n",
      "Requirement already satisfied: six>=1.5 in /Users/admin/Library/Python/3.10/lib/python/site-packages (from python-dateutil>=2.8.2->pandas==2.1.1->-r requirements.txt (line 2)) (1.16.0)\n",
      "Note: you may need to restart the kernel to use updated packages.\n"
     ]
    }
   ],
   "source": [
    "%pip install -r requirements.txt\n",
    "\n",
    "import numpy as np\n",
    "import pandas as pd\n",
    "import matplotlib.pyplot as plt\n"
   ]
  },
  {
   "cell_type": "markdown",
   "metadata": {},
   "source": [
    "## Data Collection Process\n",
    "Our [data](https://catalog.data.gov/dataset/nchs-leading-causes-of-death-united-states) was collected from the NCHS (National Center for Health Statistics) and was parsed using numpy and pandas\n",
    "\n",
    "\n",
    "## Data Exploration\n",
    "TODO!"
   ]
  },
  {
   "cell_type": "markdown",
   "metadata": {},
   "source": [
    "\n",
    "### Data Analysis\n",
    "\n"
   ]
  },
  {
   "cell_type": "code",
   "execution_count": null,
   "metadata": {},
   "outputs": [],
   "source": [
    "# Data Analysis"
   ]
  },
  {
   "cell_type": "markdown",
   "metadata": {},
   "source": [
    "### Building our Visualizations \n",
    "TODO!\n",
    "\n"
   ]
  },
  {
   "cell_type": "code",
   "execution_count": null,
   "metadata": {},
   "outputs": [],
   "source": [
    "# Visualaize the data"
   ]
  },
  {
   "cell_type": "markdown",
   "metadata": {},
   "source": [
    "## The Message\n",
    "TODO!\n",
    "\n",
    "## What can we do?\n",
    "TODO!"
   ]
  }
 ],
 "metadata": {
  "kernelspec": {
   "display_name": "Python 3",
   "language": "python",
   "name": "python3"
  },
  "language_info": {
   "codemirror_mode": {
    "name": "ipython",
    "version": 3
   },
   "file_extension": ".py",
   "mimetype": "text/x-python",
   "name": "python",
   "nbconvert_exporter": "python",
   "pygments_lexer": "ipython3",
   "version": "3.10.2"
  }
 },
 "nbformat": 4,
 "nbformat_minor": 2
}
