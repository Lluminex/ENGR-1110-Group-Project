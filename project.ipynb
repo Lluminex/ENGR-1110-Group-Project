{
 "cells": [
  {
   "cell_type": "markdown",
   "metadata": {},
   "source": [
    "# ENGR 1110 Project\n",
    "\n",
    "## Global Issue\n",
    "The global issue we decided to analyze is the top causes of deaths nationally and will focus on the southeast for the analysis.\n",
    "\n"
   ]
  },
  {
   "cell_type": "code",
   "execution_count": null,
   "metadata": {},
   "outputs": [],
   "source": [
    "import numpy as np\n",
    "import matplotlib.pyplot as plt\n",
    "\n"
   ]
  },
  {
   "cell_type": "markdown",
   "metadata": {},
   "source": [
    "\n",
    "\n",
    "## Data Collection Process\n",
    "Our [data](https://catalog.data.gov/dataset/nchs-leading-causes-of-death-united-states) was collected from the NCHS (National Center for Health Statistics) and was parsed using ...\n",
    "\n",
    "\n",
    "## Data Exploration\n",
    "TODO!\n",
    "\n",
    "### Building our Visualizations \n",
    "TODO!\n",
    "\n",
    "## The Message\n",
    "TODO!\n",
    "\n",
    "## What can we do?\n",
    "TODO!"
   ]
  }
 ],
 "metadata": {
  "language_info": {
   "name": "python"
  }
 },
 "nbformat": 4,
 "nbformat_minor": 2
}
